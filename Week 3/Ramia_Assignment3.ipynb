{
 "cells": [
  {
   "cell_type": "markdown",
   "metadata": {},
   "source": [
    "# Ramia_Assignment3"
   ]
  },
  {
   "cell_type": "markdown",
   "metadata": {},
   "source": [
    "In this project we will use all explanatory variables (with the exception of neighborhood) and all 506 census tract observations from the Boston Housing Study to advise a real estate brokerage firm in its attempt to employ machine learning methods. With the median value of homes in thousands of 1970 dollars as our target variable, we will attempt to assess the market value of residential real estate. We will do so by employing two regression modeling methods: linear regression and ridge regression. We will then evaluate these methods within a cross-validation design, using root mean-squared error (RMSE) as an index of prediction error. Python scikit-learn will be our primary environment for conducting this research. Finally, of the modeling methods examined in our study, we will recommend one to the real estate brokerage firm that we feel has the greatest predictive accuracy."
   ]
  },
  {
   "cell_type": "markdown",
   "metadata": {},
   "source": [
    "**Part 1: Data Prep and Exploration**"
   ]
  },
  {
   "cell_type": "markdown",
   "metadata": {},
   "source": [
    "Seed value for random number generators to obtain reproducible results:"
   ]
  },
  {
   "cell_type": "code",
   "execution_count": 1,
   "metadata": {},
   "outputs": [],
   "source": [
    "RANDOM_SEED = 1"
   ]
  },
  {
   "cell_type": "markdown",
   "metadata": {},
   "source": [
    "Although we standardize X and y variables on input, we will fit the intercept term in the models. Expect fitted values to be close to zero."
   ]
  },
  {
   "cell_type": "code",
   "execution_count": 2,
   "metadata": {},
   "outputs": [],
   "source": [
    "SET_FIT_INTERCEPT = True"
   ]
  },
  {
   "cell_type": "markdown",
   "metadata": {},
   "source": [
    "Import base packages into the namespace for this program:"
   ]
  },
  {
   "cell_type": "code",
   "execution_count": 3,
   "metadata": {},
   "outputs": [],
   "source": [
    "import numpy as np\n",
    "import pandas as pd\n",
    "import seaborn as sns\n",
    "import matplotlib.pyplot as plt"
   ]
  },
  {
   "cell_type": "markdown",
   "metadata": {},
   "source": [
    "Import modeling routines from Scikit Learn packages:"
   ]
  },
  {
   "cell_type": "code",
   "execution_count": 4,
   "metadata": {},
   "outputs": [],
   "source": [
    "import sklearn.linear_model \n",
    "from sklearn.linear_model import LinearRegression, Ridge, Lasso, ElasticNet\n",
    "from sklearn.metrics import mean_squared_error, r2_score  \n",
    "from math import sqrt  # for root mean-squared error calculation"
   ]
  },
  {
   "cell_type": "markdown",
   "metadata": {},
   "source": [
    "Read data for the Boston Housing Study, creating data frame boston_input:"
   ]
  },
  {
   "cell_type": "code",
   "execution_count": 5,
   "metadata": {},
   "outputs": [],
   "source": [
    "boston_input = pd.read_csv('boston.csv')"
   ]
  },
  {
   "cell_type": "markdown",
   "metadata": {},
   "source": [
    "Drop neighborhood from the data being considered:"
   ]
  },
  {
   "cell_type": "code",
   "execution_count": 6,
   "metadata": {},
   "outputs": [],
   "source": [
    "boston = boston_input.drop('neighborhood', 1)"
   ]
  },
  {
   "cell_type": "markdown",
   "metadata": {},
   "source": [
    "Check the data:"
   ]
  },
  {
   "cell_type": "code",
   "execution_count": 7,
   "metadata": {},
   "outputs": [
    {
     "name": "stdout",
     "output_type": "stream",
     "text": [
      "\n",
      "First 5 Rows of Data:\n",
      "\n",
      "      crim    zn  indus  chas    nox  rooms   age     dis  rad  tax  ptratio  \\\n",
      "0  0.00632  18.0   2.31     0  0.538  6.575  65.2  4.0900    1  296     15.3   \n",
      "1  0.02731   0.0   7.07     0  0.469  6.421  78.9  4.9671    2  242     17.8   \n",
      "2  0.02729   0.0   7.07     0  0.469  7.185  61.1  4.9671    2  242     17.8   \n",
      "3  0.03237   0.0   2.18     0  0.458  6.998  45.8  6.0622    3  222     18.7   \n",
      "4  0.06905   0.0   2.18     0  0.458  7.147  54.2  6.0622    3  222     18.7   \n",
      "\n",
      "   lstat    mv  \n",
      "0   4.98  24.0  \n",
      "1   9.14  21.6  \n",
      "2   4.03  34.7  \n",
      "3   2.94  33.4  \n",
      "4   5.33  36.2  \n",
      "\n",
      "General Description of the Data:\n",
      "\n",
      "<class 'pandas.core.frame.DataFrame'>\n",
      "RangeIndex: 506 entries, 0 to 505\n",
      "Data columns (total 13 columns):\n",
      "crim       506 non-null float64\n",
      "zn         506 non-null float64\n",
      "indus      506 non-null float64\n",
      "chas       506 non-null int64\n",
      "nox        506 non-null float64\n",
      "rooms      506 non-null float64\n",
      "age        506 non-null float64\n",
      "dis        506 non-null float64\n",
      "rad        506 non-null int64\n",
      "tax        506 non-null int64\n",
      "ptratio    506 non-null float64\n",
      "lstat      506 non-null float64\n",
      "mv         506 non-null float64\n",
      "dtypes: float64(10), int64(3)\n",
      "memory usage: 51.5 KB\n",
      "None\n",
      "\n",
      "Descriptive Statistics of the Data:\n",
      "\n",
      "             crim          zn       indus        chas         nox       rooms  \\\n",
      "count  506.000000  506.000000  506.000000  506.000000  506.000000  506.000000   \n",
      "mean     3.613524   11.363636   11.136779    0.069170    0.554695    6.284634   \n",
      "std      8.601545   23.322453    6.860353    0.253994    0.115878    0.702617   \n",
      "min      0.006320    0.000000    0.460000    0.000000    0.385000    3.561000   \n",
      "25%      0.082045    0.000000    5.190000    0.000000    0.449000    5.885500   \n",
      "50%      0.256510    0.000000    9.690000    0.000000    0.538000    6.208500   \n",
      "75%      3.677082   12.500000   18.100000    0.000000    0.624000    6.623500   \n",
      "max     88.976200  100.000000   27.740000    1.000000    0.871000    8.780000   \n",
      "\n",
      "              age         dis         rad         tax     ptratio       lstat  \\\n",
      "count  506.000000  506.000000  506.000000  506.000000  506.000000  506.000000   \n",
      "mean    68.574901    3.795043    9.549407  408.237154   18.455534   12.653063   \n",
      "std     28.148861    2.105710    8.707259  168.537116    2.164946    7.141062   \n",
      "min      2.900000    1.129600    1.000000  187.000000   12.600000    1.730000   \n",
      "25%     45.025000    2.100175    4.000000  279.000000   17.400000    6.950000   \n",
      "50%     77.500000    3.207450    5.000000  330.000000   19.050000   11.360000   \n",
      "75%     94.075000    5.188425   24.000000  666.000000   20.200000   16.955000   \n",
      "max    100.000000   12.126500   24.000000  711.000000   22.000000   37.970000   \n",
      "\n",
      "               mv  \n",
      "count  506.000000  \n",
      "mean    22.528854  \n",
      "std      9.182176  \n",
      "min      5.000000  \n",
      "25%     17.025000  \n",
      "50%     21.200000  \n",
      "75%     25.000000  \n",
      "max     50.000000  \n"
     ]
    }
   ],
   "source": [
    "print('\\nFirst 5 Rows of Data:\\n')\n",
    "print(boston.head())\n",
    "\n",
    "print('\\nGeneral Description:\\n')\n",
    "print(boston.info())\n",
    "\n",
    "print('\\nDescriptive Statistics:\\n')\n",
    "print(boston.describe())"
   ]
  },
  {
   "cell_type": "markdown",
   "metadata": {},
   "source": [
    "The max value of our target variable (mv) causes some concern. It appears as though all values greater than $50,000 were truncated. This could cause skewness, with the potential for outliers in the right-hand tail of the distribution. This, of course, is a violation of the assumptions of regression and could result in decreased predictive accuracy and untrustworthy results. One method for dealing with these issues is to log-transform the target variable. We will explore this below:"
   ]
  },
  {
   "cell_type": "code",
   "execution_count": 8,
   "metadata": {},
   "outputs": [
    {
     "data": {
      "image/png": "[encoded data removed]",
      "text/plain": [
       "<Figure size 432x288 with 1 Axes>"
      ]
     },
     "metadata": {
      "needs_background": "light"
     },
     "output_type": "display_data"
    },
    {
     "data": {
      "image/png": "[encoded data removed]",
      "text/plain": [
       "<Figure size 432x288 with 1 Axes>"
      ]
     },
     "metadata": {
      "needs_background": "light"
     },
     "output_type": "display_data"
    }
   ],
   "source": [
    "X = boston['mv']\n",
    "X_log = np.log(X)\n",
    "\n",
    "sns.distplot(X).set_title('Unscaled')\n",
    "plt.show()\n",
    "\n",
    "sns.distplot(X_log).set_title('NaturalLog')\n",
    "plt.show()"
   ]
  },
  {
   "cell_type": "markdown",
   "metadata": {},
   "source": [
    "My suspicions were proven correct. The distribution of the unscaled target variable is negatively skewed and spikes at 50. Log transformation appears to assuage these issues, creating a more normally distributed target variable. We will use this as our variable of interest going forward."
   ]
  },
  {
   "cell_type": "code",
   "execution_count": 9,
   "metadata": {},
   "outputs": [],
   "source": [
    "boston['log_mv'] = np.log(boston['mv'])"
   ]
  },
  {
   "cell_type": "markdown",
   "metadata": {},
   "source": [
    "Set up preliminary data for fitting the models. The first column is the log median housing value response. The remaining columns are the explanatory variables."
   ]
  },
  {
   "cell_type": "code",
   "execution_count": 10,
   "metadata": {},
   "outputs": [],
   "source": [
    "prelim_model_data = np.array([boston.log_mv,\\\n",
    "    boston.crim,\\\n",
    "    boston.zn,\\\n",
    "    boston.indus,\\\n",
    "    boston.chas,\\\n",
    "    boston.nox,\\\n",
    "    boston.rooms,\\\n",
    "    boston.age,\\\n",
    "    boston.dis,\\\n",
    "    boston.rad,\\\n",
    "    boston.tax,\\\n",
    "    boston.ptratio,\\\n",
    "    boston.lstat]).T"
   ]
  },
  {
   "cell_type": "markdown",
   "metadata": {},
   "source": [
    "The model data will be a standardized form of the preliminary model data. Standard scalers subtract the mean value (so standardized values always have a zero mean), and then it divides by the standard deviation so that the resulting distribution has unit variance.\n",
    "\n",
    "It is important to transform the data so that all attributes are on a common scale (e.g. using a standard scaler) before performing Ridge Regression, as it is sensitive to the scale of the input features. This is true of most regularized models."
   ]
  },
  {
   "cell_type": "code",
   "execution_count": 11,
   "metadata": {},
   "outputs": [],
   "source": [
    "from sklearn.preprocessing import StandardScaler\n",
    "scaler = StandardScaler()\n",
    "\n",
    "model_data = scaler.fit_transform(prelim_model_data)"
   ]
  },
  {
   "cell_type": "markdown",
   "metadata": {},
   "source": [
    "**Part 2: Model Evaluation**"
   ]
  },
  {
   "cell_type": "markdown",
   "metadata": {},
   "source": [
    "Specify the set of regression models being evaluated. Here we will explore two regression models: linear regression and ridge regression.\n",
    "\n",
    "We chose ridge regression over similar regularized regression methods such as lasso and ElasticNet. In practice, ridge regression is usually the first choice between these three models. Lasso and ElasticNet have their benefits but ridge regression is usually the widely regarded default.\n",
    "\n",
    "Further, the ridge model makes a trade-off between the simplicity of the model and its performance on the training set. How much importance the model places on simplicity versus training set performance can be specified by the user, using the alpha parameter. The default parameter alpha=1, however, the optimum setting of alpha depends on the particular dataset we are using. Increasing alpha forces coefficients to move more toward zero, which decreases training set performance but might help generalization. Decreasing alpha allows the coefficients to be less restricted, and we end up with a model that resembles linear regression. However, this is at the cost of generalizability. Here we will test a few values of alpha (0.1, 1, and 10) to see which one is optimal for this dataset.\n",
    "\n",
    "Finally, we set normalize=False because we have standardized the model input data outside of the modeling method calls."
   ]
  },
  {
   "cell_type": "code",
   "execution_count": 13,
   "metadata": {},
   "outputs": [],
   "source": [
    "names = ['Linear_Regression', 'Ridge_Regression', 'Ridge10_Regression', 'Ridge01_Regression']\n",
    "\n",
    "regressors = [LinearRegression(fit_intercept = SET_FIT_INTERCEPT,\n",
    "                               normalize = False), \n",
    "              Ridge(alpha = 1, solver = 'cholesky',\n",
    "                    fit_intercept = SET_FIT_INTERCEPT,\n",
    "                    normalize = False,\n",
    "                    random_state = RANDOM_SEED),\n",
    "              Ridge(alpha = 10, solver = 'cholesky',\n",
    "                    fit_intercept = SET_FIT_INTERCEPT,\n",
    "                    normalize = False,\n",
    "                    random_state = RANDOM_SEED),\n",
    "              Ridge(alpha = 0.1, solver = 'cholesky',\n",
    "                    fit_intercept = SET_FIT_INTERCEPT,\n",
    "                    normalize = False,\n",
    "                    random_state = RANDOM_SEED)\n",
    "             ]"
   ]
  },
  {
   "cell_type": "markdown",
   "metadata": {},
   "source": [
    "Specify the k-fold cross-validation design:"
   ]
  },
  {
   "cell_type": "code",
   "execution_count": 14,
   "metadata": {},
   "outputs": [],
   "source": [
    "from sklearn.model_selection import KFold"
   ]
  },
  {
   "cell_type": "markdown",
   "metadata": {},
   "source": [
    "Ten-fold cross-validation is employed here."
   ]
  },
  {
   "cell_type": "code",
   "execution_count": 15,
   "metadata": {},
   "outputs": [],
   "source": [
    "N_FOLDS = 10"
   ]
  },
  {
   "cell_type": "markdown",
   "metadata": {},
   "source": [
    "Set up numpy array for storing results."
   ]
  },
  {
   "cell_type": "code",
   "execution_count": 16,
   "metadata": {},
   "outputs": [],
   "source": [
    "cv_results = np.zeros((N_FOLDS, len(names)))\n",
    "\n",
    "kf = KFold(n_splits = N_FOLDS, shuffle=False, random_state = RANDOM_SEED)"
   ]
  },
  {
   "cell_type": "markdown",
   "metadata": {},
   "source": [
    "Check the splitting process by looking at fold observation counts:\n",
    "\n",
    "The structure of modeling data for this study has the response variable coming first and explanatory variables later so 1:model_data.shape[1] slices for explanatory variables and 0 is the index for the response variable.\n",
    "\n",
    "For the sake of brevity, I've suppressed the \"print\" statements below. I've left these in as comments, however, if you are interested in seeing the results for each fold of the following cross-validation."
   ]
  },
  {
   "cell_type": "code",
   "execution_count": 17,
   "metadata": {},
   "outputs": [],
   "source": [
    "index_for_fold = 0  # fold count initialized \n",
    "for train_index, test_index in kf.split(model_data):\n",
    "#     print('\\nFold index:', index_for_fold,\n",
    "#           '------------------------------------------')\n",
    "    X_train = model_data[train_index, 1:model_data.shape[1]]\n",
    "    X_test = model_data[test_index, 1:model_data.shape[1]]\n",
    "    y_train = model_data[train_index, 0]\n",
    "    y_test = model_data[test_index, 0]   \n",
    "#     print('\\nShape of input data for this fold:',\n",
    "#           '\\nData Set: (Observations, Variables)')\n",
    "#     print('X_train:', X_train.shape)\n",
    "#     print('X_test:',X_test.shape)\n",
    "#     print('y_train:', y_train.shape)\n",
    "#     print('y_test:',y_test.shape)\n",
    "    \n",
    "    index_for_method = 0  # initialize\n",
    "    for name, reg_model in zip(names, regressors):\n",
    "#         print('\\nRegression model evaluation for:', name)\n",
    "#         print('  Scikit Learn method:', reg_model)\n",
    "        reg_model.fit(X_train, y_train)  # fit on the train set for this fold\n",
    "#         print('Fitted regression intercept:', reg_model.intercept_)\n",
    "#         print('Fitted regression coefficients:', reg_model.coef_)\n",
    " \n",
    "        # evaluate on the test set for this fold\n",
    "        y_test_predict = reg_model.predict(X_test)\n",
    "#         print('Coefficient of determination (R-squared):',\n",
    "#               r2_score(y_test, y_test_predict))\n",
    "        fold_method_result = sqrt(mean_squared_error(y_test, y_test_predict))\n",
    "#         print(reg_model.get_params(deep=True))\n",
    "#         print('Root mean-squared error:', fold_method_result)\n",
    "        cv_results[index_for_fold, index_for_method] = fold_method_result\n",
    "        index_for_method += 1\n",
    "  \n",
    "    index_for_fold += 1\n",
    "\n",
    "cv_results_df = pd.DataFrame(cv_results)\n",
    "cv_results_df.columns = names"
   ]
  },
  {
   "cell_type": "code",
   "execution_count": 18,
   "metadata": {},
   "outputs": [
    {
     "name": "stdout",
     "output_type": "stream",
     "text": [
      "\n",
      "----------------------------------------------\n",
      "Average results from 10-fold cross-validation\n",
      "in standardized units (mean 0, standard deviation 1)\n",
      "\n",
      "Method               Root mean-squared error\n",
      "Linear_Regression     0.496452\n",
      "Ridge_Regression      0.495693\n",
      "Ridge10_Regression    0.490730\n",
      "Ridge01_Regression    0.496374\n",
      "dtype: float64\n"
     ]
    }
   ],
   "source": [
    "print('\\n----------------------------------------------')\n",
    "print('Average results from ', N_FOLDS, '-fold cross-validation\\n',\n",
    "      'in standardized units (mean 0, standard deviation 1)\\n',\n",
    "      '\\nMethod               Root mean-squared error', sep = '')     \n",
    "print(cv_results_df.mean())"
   ]
  },
  {
   "cell_type": "markdown",
   "metadata": {},
   "source": [
    "Based on the results of the 10-fold cross-validation, it appears as though the ridge regression model with an alpha of 10 provides the lowest root mean squared error (RMSE) among all of the models tested. This model is able to predict the target variable (log_mv) within 0.49 standard deviations, on average.\n",
    "\n",
    "All models perform somewhat similarly. I would venture that the high-alpha ridge model performed best on the test data because of it's greater generalizability. While this can prevent overfitting, it would be ideal to select a model that finds the right balance between performance on the training set and performance on the test set. For now, I believe I would feel comfortable recommending this model to the real estate brokerage firm. Future studies should explore a spectrum of alpha values, as well as polynomial regression models."
   ]
  }
 ],
 "metadata": {
  "kernelspec": {
   "display_name": "Python 3",
   "language": "python",
   "name": "python3"
  },
  "language_info": {
   "codemirror_mode": {
    "name": "ipython",
    "version": 3
   },
   "file_extension": ".py",
   "mimetype": "text/x-python",
   "name": "python",
   "nbconvert_exporter": "python",
   "pygments_lexer": "ipython3",
   "version": "3.7.1"
  }
 },
 "nbformat": 4,
 "nbformat_minor": 2
}
